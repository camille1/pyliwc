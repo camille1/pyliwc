{
 "cells": [
  {
   "cell_type": "code",
   "execution_count": null,
   "metadata": {},
   "outputs": [],
   "source": [
    "%load_ext autoreload\n",
    "%autoreload 2"
   ]
  },
  {
   "cell_type": "markdown",
   "metadata": {},
   "source": [
    "# Welcome to `pyliwc`\n",
    "\n",
    "> *Linguistic Inquiry and Word Count* in Python"
   ]
  },
  {
   "cell_type": "markdown",
   "metadata": {},
   "source": [
    "# Overview"
   ]
  },
  {
   "cell_type": "markdown",
   "metadata": {},
   "source": [
    "`PyLIWC` is a Python package designed to provide an interface for analyzing text using the LIWC (Linguistic Inquiry and Word Count) tool. This package allows users to interact with the LIWC CLI from within Python, offering features for processing various data formats, performing linguistic style matching, and analyzing narrative arcs in text data. It can handle folders, text files or `Pandas` dataframes.\n",
    "\n",
    "As the LIWC dictionary is proprietary software, this requires that you have installed the latest version of the LIWC software on your machine, with an activated licence (academic licence).\n"
   ]
  },
  {
   "cell_type": "markdown",
   "metadata": {},
   "source": [
    "# Manifest"
   ]
  },
  {
   "cell_type": "markdown",
   "metadata": {},
   "source": [
    "The LIWC (Linguistic Inquiry and Word Count) software by James W. Pennebaker, Roger J. Booth, and Martha E. Francis has been instrumental for countless researchers in analyzing linguistic and psycholinguistic data. Linguistic Inquiry and Word Count (LIWC) is the gold standard of dictionary-based approaches for analyzing word use. It can be used to study a single individual, groups of people over time, or all of social media.However, LIWC has traditionally been available through software, necessitating the usage of an outside software to the Python environement.\n",
    "\n",
    "Recognizing the growing popularity of Python in the scientific and research community, there is an important need for researchers and data scientists for integrating LIWC directly into their Python workflows. Thus, `pyliwc` brings (many of) the functionality of LIWC to a wider audience without the need  use the LIWC application as GUI. `pyliwc` is open-source, released under the MIT license, and is designed to enable researchers to perform sophisticated linguistic analysis directly in Python."
   ]
  },
  {
   "cell_type": "markdown",
   "metadata": {},
   "source": [
    "# Features"
   ]
  },
  {
   "cell_type": "markdown",
   "metadata": {},
   "source": [
    "The package offers a wide range of features, including:\n",
    "\n",
    "1. **LIWC Text Analysis:**\n",
    "\n",
    "- Analyze text data from various sources, including CSV files, directories, Pandas DataFrames, and individual strings.\n",
    "- Supports internal dictionaries (e.g., LIWC22, LIWC2015) as well as adhoc dictionaries\n",
    "- Output results directly in a convenient Pandas DataFrame for easy integration with other data processing tools.\n",
    "\n",
    "2. **Linguistic Style Matching (LSM):**\n",
    "\n",
    "- Perform person and group-level LSM analysis using a DataFrame to evaluate the alignment of linguistic styles in conversational data.\n",
    "- Supports pairwise LSM calculations for detailed analysis of interpersonal communication dynamics.\n",
    "\n",
    "3. **Narrative Arc Analysis:**\n",
    "\n",
    "- Analyze the narrative arc of text data to understand staging, progression, and cognitive tension, offering deep insights into storytelling elements.\n",
    "- Graphics capabilities are included, allowing users to visualize narrative structures: staging, plot progression, and cognitive tension over time.\n",
    "- Provides customizable scaling methods and segment options for precise control over the analysis process.\n",
    "\n",
    "4. **Integration with LIWC CLI:** Seamlessly execute LIWC commands and capture output for further processing, leveraging the full power of LIWC's linguistic analysis capabilities.\n",
    "Multithreading support for improved performance and faster analysis across large datasets.\n",
    "\n",
    "5. **Output Options:** Flexible output formats, including CSV, JSON, and direct integration with Pandas DataFrames, ensuring compatibility with a wide range of data analysis workflows.\n",
    "\n",
    "\n",
    "\n",
    "** **\n",
    "**Missing Features:**\n",
    "In the current version, the following features have not yet been ported : Word frequencies, Meaning extraction and Contextualizer.\n"
   ]
  }
 ],
 "metadata": {
  "kernelspec": {
   "display_name": "Python 3 (ipykernel)",
   "language": "python",
   "name": "python3"
  }
 },
 "nbformat": 4,
 "nbformat_minor": 4
}
