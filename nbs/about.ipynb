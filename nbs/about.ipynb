{
 "cells": [
  {
   "cell_type": "markdown",
   "id": "b541c054-1370-40d3-91ed-51c07a3af3b8",
   "metadata": {},
   "source": [
    "# About"
   ]
  },
  {
   "cell_type": "markdown",
   "id": "f9cf5e24-c3c9-4554-96dd-957bbd860897",
   "metadata": {},
   "source": [
    "Written by Camille Lacan."
   ]
  },
  {
   "cell_type": "code",
   "execution_count": null,
   "id": "b907b863-de16-4899-95ee-9a8f85ca4ff0",
   "metadata": {},
   "outputs": [],
   "source": []
  }
 ],
 "metadata": {
  "kernelspec": {
   "display_name": "Python 3 (ipykernel)",
   "language": "python",
   "name": "python3"
  }
 },
 "nbformat": 4,
 "nbformat_minor": 5
}
