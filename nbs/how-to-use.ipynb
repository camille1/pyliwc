{
 "cells": [
  {
   "cell_type": "code",
   "execution_count": null,
   "metadata": {},
   "outputs": [],
   "source": [
    "%load_ext autoreload\n",
    "%autoreload 2"
   ]
  },
  {
   "cell_type": "markdown",
   "metadata": {},
   "source": [
    "# How to use"
   ]
  },
  {
   "cell_type": "markdown",
   "metadata": {},
   "source": [
    "## Initialization"
   ]
  },
  {
   "cell_type": "markdown",
   "metadata": {},
   "source": [
    "`Liwc` is the main class for interacting with the LIWC CLI.\n",
    "\n",
    "```python \n",
    "liwc = Liwc(liwc_cli_path='LIWC-22-cli', threads=None, verbose=True) \n",
    "```\n",
    "\n",
    "**Parameters**:\n",
    "- liwc_cli_path (str): Path to the LIWC CLI executable. Default is 'LIWC-22-cli'. On WSL, it is required to add .exe at the end 'LIWC-22-cli.exe',\n",
    "- threads (int, optional): Number of threads to use. Defaults to the number of CPU cores minus one.\n",
    "- verbose (bool, optional): If True, display printing such as progress bar for large files. Defaults to False."
   ]
  },
  {
   "cell_type": "markdown",
   "metadata": {},
   "source": [
    "The main Class of `Pyliwc` is `Liwc`.\n",
    "<div class=\"alert alert-info\">Note:  Pyliwc requires that the LIWC-22 application is running on your computer. Please ensure that you currently have a copy of the LIWC-22 user interface open.</div>\n",
    "\n",
    "<!-- ![liwc22_interface.jpg](images/liwc22_interface.jpg) -->\n",
    "<img src=\"images/liwc22_interface.jpg\" width=\"350\">"
   ]
  },
  {
   "cell_type": "markdown",
   "metadata": {},
   "source": [
    "## Methods"
   ]
  },
  {
   "cell_type": "markdown",
   "metadata": {},
   "source": [
    "### LIWC analyze"
   ]
  },
  {
   "cell_type": "markdown",
   "metadata": {},
   "source": [
    "`analyze_df`\n",
    "\n",
    "Analyze text data from a Pandas DataFrame using LIWC.\n",
    "\n",
    "```python\n",
    "\n",
    "from pyliwc import Liwc\n",
    "\n",
    "liwc = Liwc('LIWC-22-cli.exe')\n",
    "\n",
    "\n",
    "result_df = liwc.analyze_df(text_df, return_input=False, liwc_dict='LIWC22')\n",
    "\n",
    "```\n",
    "\n",
    "**Example**\n",
    "\n",
    "\n",
    "```python\n",
    "import pandas as pd\n",
    "data = {'Text': [\"I am happy\", \"I feel sad today\"]}\n",
    "df = pd.DataFrame(data)\n",
    "result_df = liwc.analyze_df(df.Text)\n",
    "\n",
    "```"
   ]
  },
  {
   "cell_type": "markdown",
   "metadata": {},
   "source": [
    "`analyze_csv`\n",
    "\n",
    "Analyze text data from a CSV file using LIWC.\n",
    "\n",
    "```python\n",
    "liwc.analyze_csv(input_file, output_location, row_id_indices, column_indices, liwc_dict='LIWC22')\n",
    "\n",
    "```\n",
    "\n",
    "**Example**\n",
    "\n",
    "\n",
    "```python\n",
    "liwc.analyze_csv(\"input.csv\", \"output.csv\", \"0\", \"1\")\n",
    "\n",
    "```\n"
   ]
  },
  {
   "cell_type": "markdown",
   "metadata": {},
   "source": [
    "`analyze_folder`\n",
    "\n",
    "Analyze all text files in a specified folder using LIWC.\n",
    "\n",
    "```python\n",
    "liwc.analyze_folder(input_folder, output_location, liwc_dict='LIWC22')\n",
    "\n",
    "```\n",
    "\n",
    "**Example**\n",
    "\n",
    "\n",
    "```python\n",
    "liwc.analyze_folder('D:/Downloads/texts_folder', 'D:/Downloads')\n",
    "```"
   ]
  },
  {
   "cell_type": "markdown",
   "metadata": {},
   "source": [
    "`analyze_string`\n",
    "\n",
    "Analyze a single string using LIWC.\n",
    "\n",
    "```python\n",
    "liwc.analyze_string(input_string, output_location, liwc_dict='LIWC22')\n",
    "\n",
    "```\n",
    "\n",
    "**Example**\n",
    "\n",
    "\n",
    "```python\n",
    "liwc.analyze_string(\"I am feeling great\", \"D:/Downloads\")\n",
    "\n",
    "```"
   ]
  },
  {
   "cell_type": "markdown",
   "metadata": {},
   "source": [
    "`analyze_string_to_json`\n",
    "\n",
    "Analyze a single string and return the result as a JSON object.\n",
    "\n",
    "```python\n",
    "liwc.analyze_string_to_json(input_string, liwc_dict='LIWC22')\n",
    "\n",
    "```\n",
    "\n",
    "**Example**\n",
    "\n",
    "\n",
    "```python\n",
    "result = liwc.analyze_string_to_json(\"This is an example string\")\n",
    "print(result)\n",
    "\n",
    "{'Segment': 1, 'WC': 5, 'Analytic': 39.7, 'Clout': 40.06, 'Authentic': 1, 'Tone': 20.23, 'WPS': 5, 'BigWords': 20, 'Dic': 60, 'Linguistic': 60, 'function': 60, 'pronoun': 20, 'ppron': 0, 'i': 0, 'we': 0, 'you': 0, 'shehe': 0, 'they': 0, 'ipron': 20, 'det': 40, 'article': 20, 'number': 0, 'prep': 0, 'auxverb': 20, 'adverb': 0, 'conj': 0, 'negate': 0, 'verb': 20, 'adj': 0, 'quantity': 0, 'Drives': 0, 'affiliation': 0, 'achieve': 0, 'power': 0, 'Cognition': 0, 'allnone': 0, 'cogproc': 0, 'insight': 0, 'cause': 0, 'discrep': 0, 'tentat': 0, 'certitude': 0, 'differ': 0, 'memory': 0, 'Affect': 0, 'tone_pos': 0, 'tone_neg': 0, 'emotion': 0, 'emo_pos': 0, 'emo_neg': 0, 'emo_anx': 0, 'emo_anger': 0, 'emo_sad': 0, 'swear': 0, 'Social': 0, 'socbehav': 0, 'prosocial': 0, 'polite': 0, 'conflict': 0, 'moral': 0, 'comm': 0, 'socrefs': 0, 'family': 0, 'friend': 0, 'female': 0, 'male': 0, 'Culture': 0, 'politic': 0, 'ethnicity': 0, 'tech': 0, 'Lifestyle': 0, 'leisure': 0, 'home': 0, 'work': 0, 'money': 0, 'relig': 0, 'Physical': 0, 'health': 0, 'illness': 0, 'wellness': 0, 'mental': 0, 'substances': 0, 'sexual': 0, 'food': 0, 'death': 0, 'need': 0, 'want': 0, 'acquire': 0, 'lack': 0, 'fulfill': 0, 'fatigue': 0, 'reward': 0, 'risk': 0, 'curiosity': 0, 'allure': 0, 'Perception': 0, 'attention': 0, 'motion': 0, 'space': 0, 'visual': 0, 'auditory': 0, 'feeling': 0, 'time': 0, 'focuspast': 0, 'focuspresent': 20, 'focusfuture': 0, 'Conversation': 0, 'netspeak': 0, 'assent': 0, 'nonflu': 0, 'filler': 0, 'AllPunc': 0, 'Period': 0, 'Comma': 0, 'QMark': 0, 'Exclam': 0, 'Apostro': 0, 'OtherP': 0, 'Emoji': 0}\n",
    "```"
   ]
  },
  {
   "cell_type": "markdown",
   "metadata": {},
   "source": [
    "### Language Style Matching\n"
   ]
  },
  {
   "cell_type": "markdown",
   "metadata": {},
   "source": [
    "This method allows the analysis of linguistic style matching, focusing on person and group-level analysis."
   ]
  },
  {
   "cell_type": "markdown",
   "metadata": {},
   "source": [
    "`analyze_lsm`\n",
    "\n",
    "Perform LSM analysis on a DataFrame.\n",
    "\n",
    "```python\n",
    "\n",
    "liwc.analyze_lsm(df, calculate_lsm='person-and-group', group_column='GroupID', person_column='PersonID', text_column='Text', output_type='pairwise', expanded_output=False, omit_speakers_number_of_turns=0, omit_speakers_word_count=10, segmentation='none')\n",
    "\n",
    "```\n",
    "\n",
    "**Example**\n",
    "\n",
    "\n",
    "```python\n",
    "liwc = Liwc('LIWC-22-cli.exe')\n",
    "import pandas as pd\n",
    "\n",
    "# Example DataFrame\n",
    "data = {\n",
    "    'GroupID': [1, 1, 2, 2],\n",
    "    'PersonID': [101, 102, 201, 202],\n",
    "    'Text': [\"I like apples\",\n",
    "             \"He enjoys oranges\",\n",
    "             \"They eat bananas\",\n",
    "             \"We love grapes\"]\n",
    "}\n",
    "df = pd.DataFrame(data)\n",
    "\n",
    "lsm_result = liwc.analyze_lsm(df,\n",
    "                              calculate_lsm=\"pairwise\",  \n",
    "                              person_column='PersonID',\n",
    "                              group_column='GroupID',\n",
    "                              text_column='Text',\n",
    "                              omit_speakers_word_count=1)\n",
    "```\n",
    "\n",
    "```python\n",
    "# Group level\n",
    "lsm_result['group_level']\n",
    "\n",
    "```\n",
    "\n",
    "<table border=\"1\" class=\"dataframe\">\\n  <thead>\\n    <tr style=\"text-align: right;\">\\n      <th></th>\\n      <th>GroupID</th>\\n      <th>Segment</th>\\n      <th>LSM</th>\\n      <th>WC.Total</th>\\n    </tr>\\n  </thead>\\n  <tbody>\\n    <tr>\\n      <th>0</th>\\n      <td>1</td>\\n      <td>1</td>\\n      <td>0.88</td>\\n      <td>6</td>\\n    </tr>\\n    <tr>\\n      <th>1</th>\\n      <td>2</td>\\n      <td>1</td>\\n      <td>1.00</td>\\n      <td>6</td>\\n    </tr>\\n  </tbody>\\n</table>\n",
    "\n",
    "```python\n",
    "# Person level\n",
    "lsm_result['person_level']\n",
    "```\n",
    "\n",
    "<table border=\"1\" class=\"dataframe\">\\n  <thead>\\n    <tr style=\"text-align: right;\">\\n      <th></th>\\n      <th>GroupID</th>\\n      <th>Segment</th>\\n      <th>Person.1</th>\\n      <th>Person.2</th>\\n      <th>LSM</th>\\n      <th>WC.Person.1</th>\\n      <th>WC.Person.2</th>\\n    </tr>\\n  </thead>\\n  <tbody>\\n    <tr>\\n      <th>0</th>\\n      <td>1</td>\\n      <td>1</td>\\n      <td>101</td>\\n      <td>102</td>\\n      <td>0.88</td>\\n      <td>3</td>\\n      <td>3</td>\\n    </tr>\\n    <tr>\\n      <th>1</th>\\n      <td>2</td>\\n      <td>1</td>\\n      <td>201</td>\\n      <td>202</td>\\n      <td>1.00</td>\\n      <td>3</td>\\n      <td>3</td>\\n    </tr>\\n  </tbody>\\n</table>"
   ]
  },
  {
   "cell_type": "markdown",
   "metadata": {},
   "source": [
    "### Narrative arc"
   ]
  },
  {
   "cell_type": "markdown",
   "metadata": {},
   "source": [
    "The Narrative Arc Analysis feature provides insights into the narrative structure of texts by breaking them down into key components such as Staging, Plot Progression, and Cognitive Tension. This is particularly useful for understanding the flow and development of stories or articles. Here's a closer look at how it works:\n",
    "\n",
    "**How It Works**\n",
    "\n",
    "1. Text Segmentation:\n",
    "\n",
    "    - The text is divided into multiple segments, and each segment is analyzed separately.\n",
    "    \n",
    "    - You can control the number of segments using the segments_number parameter.\n",
    "\n",
    "\n",
    "2. Components Analysis:\n",
    "\n",
    "    - **Staging**: This measures how much information is being set up at various points in the text.\n",
    "    - **Plot Progression**: This reflects the movement and development of the narrative.\n",
    "    - **Cognitive Tension**: This captures the emotional or psychological tension present in the text.\n",
    "\n",
    "3. Scaling Methods:\n",
    "Two scaling methods are available:\n",
    "      \n",
    "    - `0-100`: Values are scaled between 0 and 100 for easy comparison.\n",
    "    - `Z-score`: Standardizes scores based on mean and standard deviation.\n",
    "\n",
    "  \n",
    "4. Output Options:\n",
    "\n",
    "    - Choose whether to output individual data points for each segment or aggregate the data.\n",
    "    - Filter out texts with word counts below a specified threshold using skip_wc.\n",
    "    Function Usage\n",
    "\n",
    "\n",
    "Here is a breakdown of the narrative_arc function, which conducts the analysis:\n",
    "\n",
    "`narrative_arc`"
   ]
  },
  {
   "cell_type": "markdown",
   "metadata": {},
   "source": [
    "```python\n",
    "\n",
    "\n",
    "\n",
    "narrative_arc(\n",
    "    df=df, \n",
    "    column_names=['Text'], \n",
    "    output_individual_data_points=True, \n",
    "    scaling_method='0-100', \n",
    "    segments_number=5, \n",
    "    skip_wc=10\n",
    ")\n",
    "\n",
    "```\n",
    "\n",
    "**Example**\n",
    "\n",
    "```python\n",
    "\n",
    "from pyliwc import Liwc\n",
    "import pandas as pd\n",
    "\n",
    "liwc = Liwc('LIWC-22-cli.exe')\n",
    "\n",
    "df = pd.DataFrame({\n",
    "    'Text': [\"\"\"\n",
    "Once upon a time, in a land far away, there lived a young prince named Elior who was born without the ability to speak. One day, a wise inventor arrived at the castle with an AI device that could translate thoughts into speech. The prince accepted the device and, to everyone's amazement, his unspoken words became a beautiful voice. The entire kingdom rejoiced as Elior expressed his wisdom and compassion. With the power of AI, he not only found his voice but also united his people. Thus, the prince and his kingdom thrived, forever grateful for the miracle of technology.\"\"\"\n",
    "    ]\n",
    "})\n",
    "\n",
    "\n",
    "narrative_results = liwc_analyzer.narrative_arc(\n",
    "    df=df, \n",
    "    column_names=['Text'], \n",
    "    output_individual_data_points=True, \n",
    "    scaling_method='0-100', \n",
    "    segments_number=5, \n",
    "    skip_wc=10\n",
    ")\n",
    "\n",
    "```\n",
    "\n",
    "```python\n",
    "\n",
    "narrative_results\n",
    "\n",
    "```\n",
    "<table border=\"1\" class=\"dataframe\">\\n  <thead>\\n    <tr style=\"text-align: right;\">\\n      <th></th>\\n      <th>Row ID</th>\\n      <th>WC</th>\\n      <th>Narrativity_Overall</th>\\n      <th>Narrativity_Staging</th>\\n      <th>Narrativity_PlotProg</th>\\n      <th>Narrativity_CogTension</th>\\n    </tr>\\n  </thead>\\n  <tbody>\\n    <tr>\\n      <th>0</th>\\n      <td>1</td>\\n      <td>100</td>\\n      <td>47.6</td>\\n      <td>81.09</td>\\n      <td>16.17</td>\\n      <td>45.54</td>\\n    </tr>\\n  </tbody>\\n</table>"
   ]
  },
  {
   "cell_type": "markdown",
   "metadata": {},
   "source": [
    "```python\n",
    "\n",
    "liwc = Liwc('LIWC-22-cli.exe')\n",
    "\n",
    "df = pd.DataFrame({\n",
    "    'Text': [\"\"\"\n",
    "Once upon a time, in a land far away, there lived a young prince named Elior who was born without the ability to speak. One day, a wise inventor arrived at the castle with an AI device that could translate thoughts into speech. The prince accepted the device and, to everyone's amazement, his unspoken words became a beautiful voice. The entire kingdom rejoiced as Elior expressed his wisdom and compassion. With the power of AI, he not only found his voice but also united his people. Thus, the prince and his kingdom thrived, forever grateful for the miracle of technology.\"\"\"\n",
    "    ]\n",
    "})\n",
    "\n",
    "\n",
    "narrative_results = liwc.narrative_arc(\n",
    "    df=df, \n",
    "    column_names=['Text'], \n",
    "    output_individual_data_points=True, \n",
    "    scaling_method='0-100', \n",
    "    segments_number=5, \n",
    "    skip_wc=10\n",
    ")\n",
    "```\n"
   ]
  },
  {
   "cell_type": "markdown",
   "metadata": {},
   "source": [
    "### Plotting the Narrative Arc\n",
    "\n"
   ]
  },
  {
   "cell_type": "markdown",
   "metadata": {},
   "source": [
    "To visually represent the narrative arc, you can use the plot_narrative_arc method:\n",
    "\n",
    "Note: `output_individual_data_points` must be set to `True` in `narrative_arc` to plot the results"
   ]
  },
  {
   "cell_type": "markdown",
   "metadata": {},
   "source": [
    "```python\n",
    "\n",
    "from pyliwc import Liwc\n",
    "import pandas as pd\n",
    "\n",
    "liwc = Liwc('LIWC-22-cli.exe')\n",
    "\n",
    "df = pd.DataFrame({\n",
    "    'Text': [\"\"\"\n",
    "Once upon a time, in a land far away, there lived a young prince named Carlo who was born without the ability to speak.\n",
    "One day, a wise inventor arrived at the castle with an AI device that could translate thoughts into speech. \n",
    "The prince accepted the device and, to everyone's amazement, his unspoken words became a beautiful voice. \n",
    "The entire kingdom rejoiced as Elior expressed his wisdom and compassion.\n",
    "With the power of AI, he not only found his voice but also united his people. \n",
    "Thus, the prince and his kingdom thrived, forever grateful for the miracle of technology.\"\"\"\n",
    "    ]\n",
    "})\n",
    "\n",
    "\n",
    "narrative_results = liwc.narrative_arc(\n",
    "    df=df, \n",
    "    column_names=['Text'], \n",
    "    output_individual_data_points=True, \n",
    "    scaling_method='0-100', \n",
    "    skip_wc=10\n",
    ")\n",
    "\n",
    "#  Plot the Narrative Arc\n",
    "\n",
    "fig = liwc.plot_narrative_arc(narrative_results)\n",
    "fig\n",
    "```"
   ]
  },
  {
   "cell_type": "markdown",
   "metadata": {},
   "source": [
    "<img src=\"images/narrative_arc.svg\" width=\"100%\">"
   ]
  },
  {
   "cell_type": "code",
   "execution_count": null,
   "metadata": {},
   "outputs": [],
   "source": []
  }
 ],
 "metadata": {
  "kernelspec": {
   "display_name": "Python 3 (ipykernel)",
   "language": "python",
   "name": "python3"
  }
 },
 "nbformat": 4,
 "nbformat_minor": 4
}
