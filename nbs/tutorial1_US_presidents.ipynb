{
 "cells": [
  {
   "cell_type": "markdown",
   "id": "d054b352-552e-43aa-a594-9cad2c83109a",
   "metadata": {},
   "source": [
    "# Text Analysis of U.S. Presidents' Inaugural Addresses"
   ]
  },
  {
   "cell_type": "markdown",
   "id": "c594d469-4aef-4973-97c8-3195501bc08c",
   "metadata": {},
   "source": [
    "<img src='images/inaugural-address.jpg' width=\"100%\">"
   ]
  },
  {
   "cell_type": "markdown",
   "id": "1f8ec120-7a94-4f94-bddf-4d4f3692e2b0",
   "metadata": {},
   "source": [
    "The pyliwc package is a powerful tool for text analysis using the LIWC framework. It helps in quantifying various linguistic and psychological features from text data, making it invaluable for researchers and data scientists interested in text analytics.\n",
    "\n",
    " In this tutorial, we will focus on analyzing the inaugural addresses of four U.S. Presidents: **George W. Bush, Barack Obama, Donald Trump, and Joe Biden**. The goal is to gain insights into their linguistic styles and psychological attributes as expressed in their speeches.\n",
    "\n",
    " "
   ]
  },
  {
   "cell_type": "markdown",
   "id": "b885903b-75f5-467e-a9ad-5f7334c67c29",
   "metadata": {},
   "source": [
    "# 💻 Installation"
   ]
  },
  {
   "cell_type": "markdown",
   "id": "91e0cc7f-0464-4246-b213-396585d4d039",
   "metadata": {},
   "source": [
    "To install the pyliwc package, you need to have Python and pip installed on your system. Use the following command to install:\n",
    "```sh\n",
    "pip install pyliwc\n",
    "```\n",
    "**Or using Conda**\n",
    "```sh\n",
    "conda install -c pyliwc\n",
    "```\n",
    "\n",
    "Ensure that you have the LIWC-22-cli.exe executable available, as it is required for the analysis."
   ]
  },
  {
   "cell_type": "markdown",
   "id": "32ae513f-46c7-440d-814f-18c131853d59",
   "metadata": {},
   "source": [
    "# 🚀 Quick start"
   ]
  },
  {
   "cell_type": "markdown",
   "id": "e6971c74-8ea5-4e81-ad45-aca81329edbc",
   "metadata": {},
   "source": [
    "To begin using pyliwc, you need to import the Liwc class from the package and create an instance. Here's how you can get started:"
   ]
  },
  {
   "cell_type": "code",
   "execution_count": null,
   "id": "2dabee86-ad9b-40c6-8b04-db786f85a88d",
   "metadata": {},
   "outputs": [
    {
     "name": "stderr",
     "output_type": "stream",
     "text": [
      "Picked up JAVA_TOOL_OPTIONS: -Dfile.encoding=UTF-8\n"
     ]
    },
    {
     "name": "stdout",
     "output_type": "stream",
     "text": [
      "{'Segment': 1, 'WC': 19, 'Analytic': 67.62, 'Clout': 99, 'Authentic': 8.42, 'Tone': 1, 'WPS': 19, 'BigWords': 21.05, 'Dic': 89.47, 'Linguistic': 63.16, 'function': 52.63, 'pronoun': 15.79, 'ppron': 10.53, 'i': 0, 'we': 10.53, 'you': 0, 'shehe': 0, 'they': 0, 'ipron': 5.26, 'det': 5.26, 'article': 0, 'number': 0, 'prep': 21.05, 'auxverb': 5.26, 'adverb': 0, 'conj': 10.53, 'negate': 0, 'verb': 10.53, 'adj': 0, 'quantity': 5.26, 'Drives': 15.79, 'affiliation': 15.79, 'achieve': 0, 'power': 0, 'Cognition': 15.79, 'allnone': 0, 'cogproc': 15.79, 'insight': 0, 'cause': 10.53, 'discrep': 5.26, 'tentat': 5.26, 'certitude': 0, 'differ': 0, 'memory': 0, 'Affect': 15.79, 'tone_pos': 5.26, 'tone_neg': 10.53, 'emotion': 10.53, 'emo_pos': 5.26, 'emo_neg': 5.26, 'emo_anx': 5.26, 'emo_anger': 0, 'emo_sad': 0, 'swear': 0, 'Social': 15.79, 'socbehav': 5.26, 'prosocial': 0, 'polite': 0, 'conflict': 5.26, 'moral': 0, 'comm': 0, 'socrefs': 10.53, 'family': 0, 'friend': 0, 'female': 0, 'male': 0, 'Culture': 0, 'politic': 0, 'ethnicity': 0, 'tech': 0, 'Lifestyle': 0, 'leisure': 0, 'home': 0, 'work': 0, 'money': 0, 'relig': 0, 'Physical': 0, 'health': 0, 'illness': 0, 'wellness': 0, 'mental': 0, 'substances': 0, 'sexual': 0, 'food': 0, 'death': 0, 'need': 0, 'want': 5.26, 'acquire': 5.26, 'lack': 0, 'fulfill': 0, 'fatigue': 0, 'reward': 0, 'risk': 0, 'curiosity': 0, 'allure': 10.53, 'Perception': 10.53, 'attention': 0, 'motion': 0, 'space': 10.53, 'visual': 0, 'auditory': 0, 'feeling': 0, 'time': 5.26, 'focuspast': 0, 'focuspresent': 0, 'focusfuture': 5.26, 'Conversation': 0, 'netspeak': 0, 'assent': 0, 'nonflu': 0, 'filler': 0, 'AllPunc': 15.79, 'Period': 5.26, 'Comma': 10.53, 'QMark': 0, 'Exclam': 0, 'Apostro': 0, 'OtherP': 0, 'Emoji': 0}\n"
     ]
    }
   ],
   "source": [
    "from pyliwc import Liwc\n",
    "\n",
    "# Initialize the Liwc instance with the LIWC CLI executable\n",
    "liwc = Liwc('LIWC-22-cli.exe')\n",
    "\n",
    "text = \"On this day, we gather because we have chosen hope over fear, unity of purpose over conflict and discord.\"\n",
    "\n",
    "r = liwc.analyze_string_to_json(text)\n",
    "print(r)"
   ]
  },
  {
   "cell_type": "markdown",
   "id": "f91728b2-2b64-4966-8a9a-bb2583b98031",
   "metadata": {},
   "source": [
    "# 📁 Analyzing a folder"
   ]
  },
  {
   "cell_type": "markdown",
   "id": "cbb9233a-aefe-4c6c-9c7e-b6f17c14f979",
   "metadata": {},
   "source": [
    "\n",
    "The `analyze_folder` function allows users to perform a comprehensive analysis of multiple text files located in a specified directory. This function leverages the LIWC tool to extract various linguistic and psychological features from the text data.\n",
    "\n",
    "```python\n",
    "\n",
    "def analyze_folder(self: Liwc,\n",
    "                   input_folder: str, \n",
    "                   output_location: str, \n",
    "                   liwc_dict: str = \"LIWC22\"):\n",
    "\n",
    "```\n",
    "\n",
    "**Parameters**\n",
    "- `input_folder`\n",
    "The path to the folder containing text files to be analyzed. This parameter specifies the location of the text data on which the LIWC analysis will be performed.\n",
    "\n",
    " - `output_location`\n",
    "The path where the analysis output will be saved. The results will be stored in this location as a CSV file.\n",
    "\n",
    "- `liwc_dict: str`\n",
    "Specifies the LIWC dictionary to use for analysis. Defaults to \"LIWC22\".\n",
    "\n",
    "                                   \n",
    "Here's an example of how to use the analyze_df function:\n",
    "\n"
   ]
  },
  {
   "cell_type": "code",
   "execution_count": null,
   "id": "2de8ebad-516a-4cc1-9a06-0193e0a50830",
   "metadata": {},
   "outputs": [],
   "source": [
    "from pyliwc import Liwc\n",
    "\n",
    "# Initialize the Liwc object with the path to the LIWC CLI executable\n",
    "liwc = Liwc('LIWC-22-cli.exe')\n",
    "\n",
    "# Specify the input folder containing text files and the output location\n",
    "input_folder = '../data/inaugural-address'\n",
    "output_location = '../data/US-president_analysis.csv'\n",
    "\n",
    "# Perform analysis using the default LIWC22 dictionary\n",
    "liwc.analyze_folder(input_folder=input_folder, \n",
    "                    output_location=output_location, \n",
    "                    liwc_dict='LIWC22')\n",
    "\n",
    "print(f\"Analysis completed. Results saved to {output_location}.\")\n"
   ]
  },
  {
   "cell_type": "markdown",
   "id": "bfb47fcc-9d2c-4de2-903c-2e1cc91c8b03",
   "metadata": {},
   "source": [
    "# 💾Analyzing a DataFrame"
   ]
  },
  {
   "cell_type": "markdown",
   "id": "57e40130-971b-40ad-bb0d-da49c66274e5",
   "metadata": {},
   "source": [
    "\n",
    "The `analyze_df` function is a key feature of pyliwc. It allows you to analyze a Pandas DataFrame containing text data. Below is the function signature and its parameters:\n",
    "\n",
    "```python\n",
    "\n",
    "def analyze_df(self: Liwc, \n",
    "               text: pd.Series, \n",
    "               return_input: bool = False, \n",
    "               liwc_dict: str = \"LIWC22\") -> pd.DataFrame\n",
    "\n",
    "```\n",
    "\n",
    "**Parameters**\n",
    "- `text: pd.Series`\n",
    "A Pandas Series containing the text data to be analyzed.\n",
    "\n",
    "- `return_input: bool`\n",
    "A boolean flag indicating whether to include the input text in the output DataFrame. Defaults to False.\n",
    "\n",
    "- `liwc_dict: str`\n",
    "Specifies the LIWC dictionary to use for analysis. Defaults to \"LIWC22\".\n",
    "\n",
    "**Returns**\n",
    "- `pd.DataFrame`\n",
    "A DataFrame containing the LIWC analysis results.\n",
    "\n",
    "\n",
    "**Function Workflow**\n",
    "1. Input Conversion: The function takes the input text series and converts it to a temporary CSV file.\n",
    "2. LIWC Analysis: The function calls the LIWC CLI to perform text analysis, specifying the LIWC dictionary and other parameters.\n",
    "3. Output Handling: Results are read from the generated CSV output and compiled into a DataFrame.\n",
    "\n",
    "Here's an example of how to use the analyze_df function:\n",
    "\n"
   ]
  },
  {
   "cell_type": "code",
   "execution_count": null,
   "id": "cef1e8ef-0fd3-41b2-a8f2-6486da4971db",
   "metadata": {},
   "outputs": [],
   "source": [
    "import pandas as pd\n",
    "df = pd.read_csv('../data/US-president.csv')\n",
    "df"
   ]
  },
  {
   "cell_type": "code",
   "execution_count": null,
   "id": "b9178339-000b-43ea-b039-a4528d9f4342",
   "metadata": {},
   "outputs": [],
   "source": [
    "df.columns"
   ]
  },
  {
   "cell_type": "code",
   "execution_count": null,
   "id": "754aa877-2e0f-4709-952f-34611b80d112",
   "metadata": {},
   "outputs": [],
   "source": [
    "from pyliwc import Liwc\n",
    "\n",
    "liwc = Liwc('LIWC-22-cli.exe')\n",
    "\n",
    "# Analyze the text data\n",
    "result_df = liwc.analyze_df(df['Text'], return_input=True, liwc_dict='LIWC22')"
   ]
  },
  {
   "cell_type": "markdown",
   "id": "9e7141dc-1032-48cd-8609-d705b91d951b",
   "metadata": {},
   "source": [
    "The resulting DataFrame will have several columns corresponding to LIWC categories. Each category provides metrics such as word count, emotional tone, cognitive processes, etc. Here's a glimpse of what you might see:\n",
    "\n",
    "- *WC*: Word Count\n",
    "- *Analytic*: Analytical thinking\n",
    "- *Clout*: Social status and confidence\n",
    "- *Authentic*: Authenticity of the speech\n",
    "- *Tone*: Emotional tone of the address"
   ]
  },
  {
   "cell_type": "code",
   "execution_count": null,
   "id": "acf5c75f-4c44-43d2-8453-ecf6f2a98e3f",
   "metadata": {},
   "outputs": [],
   "source": [
    "# Display the result\n",
    "result_df"
   ]
  },
  {
   "cell_type": "markdown",
   "id": "6054755e-1ba1-4d72-8479-c5c356ada6bd",
   "metadata": {},
   "source": [
    "### Radar plot"
   ]
  },
  {
   "cell_type": "markdown",
   "id": "eea55e53-f38d-43f9-98fb-e453d6ad058e",
   "metadata": {},
   "source": [
    "Now, we'll use matplotlib to create a radar plot. We'll customize it to include labels and titles to enhance understanding.\n",
    "For readability, we plot the most recent Presidents."
   ]
  },
  {
   "cell_type": "code",
   "execution_count": null,
   "id": "f6eee39f-6653-4845-82bd-5429e2c046a0",
   "metadata": {},
   "outputs": [],
   "source": [
    "import matplotlib.pyplot as plt\n",
    "import numpy as np\n",
    "\n",
    "categories = ['Analytic', 'Clout', 'Authentic', 'Tone']\n",
    "N = len(categories)\n",
    "\n",
    "# Compute angles for each axis\n",
    "angles = np.linspace(0, 2 * np.pi, N, endpoint=False).tolist()\n",
    "angles += angles[:1]  # Complete the loop\n",
    "\n",
    "# Create radar plot\n",
    "fig, ax = plt.subplots(figsize=(8, 8), subplot_kw=dict(polar=True))\n",
    "\n",
    "# Define colors for each president\n",
    "colors = ['red', 'blue']\n",
    "\n",
    "# Plot each president's data\n",
    "for i, president in enumerate(df['President'][-2:]):\n",
    "    values = result_df.loc[i, categories].tolist()\n",
    "    values += values[:1]  # Complete the loop\n",
    "    ax.fill(angles, values, color=colors[i], alpha=0.25, label=president)\n",
    "    ax.plot(angles, values, color=colors[i], linewidth=2)\n",
    "\n",
    "# Set the category labels on the axes\n",
    "ax.set_yticklabels([])\n",
    "ax.set_xticks(angles[:-1])\n",
    "ax.set_xticklabels(categories, fontsize=12)\n",
    "\n",
    "# Add a legend and title\n",
    "plt.legend(loc='lower right', bbox_to_anchor=(1.1, 1.1), fontsize=12)\n",
    "plt.title('LIWC-22 Analysis of US Presidential Inaugural Addresses', size=15, color='darkblue', weight='bold')\n",
    "\n",
    "# Display the radar plot\n",
    "plt.show()"
   ]
  },
  {
   "cell_type": "markdown",
   "id": "5124ee33-cfc9-4297-b3cd-3d6a0d2fc835",
   "metadata": {},
   "source": [
    "# 💬Conducting a Language Style Matching"
   ]
  },
  {
   "cell_type": "markdown",
   "id": "91e77320-aaa4-4b43-982d-fc36d4454c69",
   "metadata": {},
   "source": [
    "\n",
    "The `analyze_lsm` function is a key feature of pyliwc. It allows you to analyze Linguistic Style Matching (LSM) based on a Pandas DataFrame containing text data. \n",
    "\n",
    "```python\n",
    "\n",
    "def analyze_lsm(self: Liwc, \n",
    "                df: pd.DataFrame, \n",
    "                calculate_lsm: str = \"person-and-group\", \n",
    "                group_column: str = 'GroupID', \n",
    "                person_column: str = 'PersonID', \n",
    "                text_column: str = 'Text', \n",
    "                output_type: str = \"pairwise\",\n",
    "                expanded_output: bool = False, \n",
    "                omit_speakers_number_of_turns: int = 0, \n",
    "                omit_speakers_word_count: int = 10, \n",
    "                segmentation: str = \"none\"\n",
    "               ) -> Union[pd.DataFrame, dict]:\n",
    "\n",
    "```\n",
    "\n",
    "**Parameters**\n",
    "\n",
    "- `df: pd.DataFrame`\n",
    "A Pandas DataFrame containing the text data to be analyzed.\n",
    "\n",
    "- `calculate_lsm: str`\n",
    "Sets the type of LSM calculation. Options are:\n",
    "\n",
    "   - \"person\": Calculate only person-level LSM.\n",
    "  -  \"group\": Calculate only group-level LSM.\n",
    "   - \"person-and-group\": Calculate both person and group-level LSM.\n",
    "    Default is \"person-and-group\".\n",
    "\n",
    "- `group_column: str`\n",
    "The column name in df representing the Group ID. Default is 'GroupID'.\n",
    "\n",
    "- `person_column: str`\n",
    "The column name in df representing the Person ID. Default is 'PersonID'.\n",
    "\n",
    "- `text_column: str`\n",
    "The column name in df representing the text data. Default is 'Text'.\n",
    "\n",
    "- `output_type: str`\n",
    "Sets the type of output. Default is \"pairwise\". Options are:\n",
    "\n",
    "    - \"one-to-many\": One-to-many comparison.\n",
    "    - \"pairwise\": Pairwise comparison.\n",
    "\n",
    "- `expanded_output: bool`\n",
    "Adds an option to get an expanded LSM output. Default is False.\n",
    "\n",
    "- `omit_speakers_word_count: int`\n",
    "Omit speakers if the word count is less than this value. Default is 10.\n",
    "\n",
    "- `segmentation: str`\n",
    "Segmentation options for splitting the text. Default is \"none\". Options are:\n",
    "\n",
    "   - \"none\": No segmentation.\n",
    "   - \"not=<number>\": Number of turns per segment.\n",
    "  -  \"nofst=<number>\": Number of segments by speaker turn.\n",
    "  - \"nofwc=<number>\": Number of segments by word count.\n",
    "  -  \"now=<number>\": Number of words per segment.\n",
    "  -  \"boc=<characters>\": Segmentation based on characters.\n",
    "   - \"regexp=<regex>\": Segmentation based on a regular expression.\n",
    "\n",
    "\n",
    "\n",
    "**Returns**\n",
    "- `pd.DataFrame, dict]`\n",
    "\n",
    "The resulting LSM analysis. The output format depends on the specified output_format.\n",
    "Function Workflow\n",
    "\n",
    "\n",
    "Here's an example of how to use the analyze_lsm function with a sample DataFrame:\n",
    "\n",
    "\n"
   ]
  },
  {
   "cell_type": "code",
   "execution_count": null,
   "id": "9ef7198f-3a02-4935-8b3c-925ae8282255",
   "metadata": {},
   "outputs": [],
   "source": [
    "from pyliwc import Liwc\n",
    "import pandas as pd\n",
    "\n",
    "liwc = Liwc('LIWC-22-cli.exe')\n",
    "\n",
    "df = pd.read_csv('../data/US-president.csv')\n",
    "\n",
    "lsm = liwc.analyze_lsm(\n",
    "    df=df, \n",
    "    calculate_lsm=\"person-and-group\", \n",
    "    group_column='Party', \n",
    "    person_column='President', \n",
    "    text_column='Text', \n",
    "    output_type=\"pairwise\", \n",
    "    expanded_output=False, \n",
    "    omit_speakers_number_of_turns=0, \n",
    "    omit_speakers_word_count=10, \n",
    "    segmentation=\"none\"\n",
    ")"
   ]
  },
  {
   "cell_type": "code",
   "execution_count": null,
   "id": "ac1ec9bb-00b1-464a-96e9-f385141ce81c",
   "metadata": {},
   "outputs": [],
   "source": [
    "lsm['person_level']"
   ]
  },
  {
   "cell_type": "code",
   "execution_count": null,
   "id": "b600b350-9189-4b62-a782-d652287e43de",
   "metadata": {},
   "outputs": [],
   "source": [
    "lsm['group_level']"
   ]
  },
  {
   "cell_type": "markdown",
   "id": "19963d18-6d16-450e-8648-0b7bc15d691c",
   "metadata": {},
   "source": [
    "# 📊Conducting a Narrative Arc Analysis"
   ]
  },
  {
   "cell_type": "markdown",
   "id": "b1e5b720-fb1d-4ad8-99da-62181280b6e8",
   "metadata": {},
   "source": [
    "The `narrative_arc` allows you to analyze the narrative arc of text data based on a Pandas DataFrame. \n",
    "\n",
    "```python\n",
    "def narrative_arc(self: Liwc, df: pd.DataFrame, column_names: Union[list, None] = None, \n",
    "                  output_individual_data_points: bool = True, scaling_method: str = '0-100', \n",
    "                  segments_number: int = 5, skip_wc: int = 10) -> pd.DataFrame:\n",
    "\n",
    "```\n",
    "    \n",
    "**Parameters**\n",
    "\n",
    "- `df`: pd.DataFrame\n",
    "A Pandas DataFrame containing the text data to be analyzed.\n",
    "\n",
    "- `column_names`:\n",
    "List of column names in df that should be processed. If None, all columns are processed. Default is None.\n",
    "\n",
    "- `output_individual_data_points`:\n",
    "If True, outputs individual data points for each segment. If False, aggregates the data. Default is True.\n",
    "\n",
    "- `scaling_method`:\n",
    "Method for scaling the data. Options are:\n",
    "\n",
    "    - `\"0-100\"`: Scale values between 0 and 100.\n",
    "    - `\"Z-score\"`: Scale values using Z-score normalization.\n",
    "Default is \"0-100\".\n",
    "- `segments_number`: int\n",
    "Number of segments into which the text is divided for analysis. Default is 5.\n",
    "\n",
    "- `skip_wc`: int\n",
    "Skip any texts with a word count less than this value. Default is 10.\n",
    "\n",
    "**Returns**\n",
    "\n",
    "- `pd.DataFrame`\n",
    "The resulting DataFrame with the narrative arc analysis.\n",
    "\n"
   ]
  },
  {
   "cell_type": "code",
   "execution_count": null,
   "id": "c56491e4-3f67-4d25-ab5b-945b811ae11e",
   "metadata": {},
   "outputs": [],
   "source": [
    "from pyliwc import Liwc\n",
    "import pandas as pd\n",
    "\n",
    "liwc = Liwc('LIWC-22-cli.exe')\n",
    "\n",
    "df = pd.read_csv('../data/US-president.csv')\n",
    "\n",
    "arc = liwc.narrative_arc(\n",
    "    df=df, \n",
    "    column_names=['Text'], \n",
    "    output_individual_data_points=True, \n",
    "    scaling_method='0-100', \n",
    "    segments_number=5\n",
    ")"
   ]
  },
  {
   "cell_type": "code",
   "execution_count": null,
   "id": "859fb9bf-518b-4ba0-a359-21c9f32cfdfe",
   "metadata": {},
   "outputs": [],
   "source": [
    "from IPython.display import display\n",
    "\n",
    "for i, president in enumerate(df.President.tolist()):\n",
    "    fig = liwc.plot_narrative_arc(df=arc[arc.index == i], legend_labels=[president])\n",
    "    fig.suptitle(president, y=1.05, fontweight='bold')\n",
    "    display(fig)"
   ]
  }
 ],
 "metadata": {
  "kernelspec": {
   "display_name": "Python 3 (ipykernel)",
   "language": "python",
   "name": "python3"
  }
 },
 "nbformat": 4,
 "nbformat_minor": 5
}
